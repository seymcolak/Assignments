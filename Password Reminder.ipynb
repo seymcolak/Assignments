{
 "cells": [
  {
   "cell_type": "code",
   "execution_count": 2,
   "metadata": {},
   "outputs": [
    {
     "name": "stdout",
     "output_type": "stream",
     "text": [
      "Enter your user name:seymacolak\n",
      "Hello Seyma! Your password is: 67seyma!\n"
     ]
    }
   ],
   "source": [
    "user_name = \"seymacolak\"\n",
    "password = \"67seyma!\"\n",
    "\n",
    "name = input(\"Enter your user name:\")\n",
    "\n",
    "if name == user_name:\n",
    "    print(\"Hello Seyma! Your password is:\", password)\n",
    "else:\n",
    "    print(\"Hello Seyma! See you soon..\")"
   ]
  },
  {
   "cell_type": "code",
   "execution_count": null,
   "metadata": {},
   "outputs": [],
   "source": []
  }
 ],
 "metadata": {
  "kernelspec": {
   "display_name": "Python 3",
   "language": "python",
   "name": "python3"
  },
  "language_info": {
   "codemirror_mode": {
    "name": "ipython",
    "version": 3
   },
   "file_extension": ".py",
   "mimetype": "text/x-python",
   "name": "python",
   "nbconvert_exporter": "python",
   "pygments_lexer": "ipython3",
   "version": "3.8.5"
  }
 },
 "nbformat": 4,
 "nbformat_minor": 4
}
