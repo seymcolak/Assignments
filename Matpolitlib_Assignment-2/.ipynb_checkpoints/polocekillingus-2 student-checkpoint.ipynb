{
 "cells": [
  {
   "cell_type": "markdown",
   "metadata": {
    "id": "Crn14DLz2alD"
   },
   "source": [
    "# WITH SEABORN"
   ]
  },
  {
   "cell_type": "code",
   "execution_count": 1,
   "metadata": {
    "_cell_guid": "5fdcd462-5466-40f5-9992-dc31a9a174f2",
    "_uuid": "dab5021d92c7210270cec270470e4ae179a1de01",
    "executionInfo": {
     "elapsed": 727,
     "status": "ok",
     "timestamp": 1644597819750,
     "user": {
      "displayName": "Michael Gd",
      "photoUrl": "https://lh3.googleusercontent.com/a/default-user=s64",
      "userId": "11180041065344820766"
     },
     "user_tz": -180
    },
    "id": "HC70KTrg2alE"
   },
   "outputs": [],
   "source": [
    "import numpy as np \n",
    "import pandas as pd\n",
    "import seaborn as sns\n",
    "import matplotlib.pyplot as plt\n",
    "%matplotlib inline\n",
    "from collections import Counter\n",
    "import warnings\n",
    "warnings.filterwarnings('ignore') "
   ]
  },
  {
   "cell_type": "markdown",
   "metadata": {
    "id": "VMRewyP_2alF"
   },
   "source": [
    "INSTRUCTIONS\n",
    "1. Box and Swarm Plots in kill data\n",
    "1. Most dangerous cities\n",
    "1. Most dangerous states\n",
    "1. Having mental ilness or not for killed people\n",
    "1. Threat types\n",
    "1. Flee types\n",
    "<br>"
   ]
  },
  {
   "cell_type": "code",
   "execution_count": 2,
   "metadata": {
    "_cell_guid": "abb0685f-f844-43f8-84c0-4cd54361c7bf",
    "_uuid": "9c06ed7c41db79ae9d940f2d52aeff23621b3037",
    "executionInfo": {
     "elapsed": 240,
     "status": "ok",
     "timestamp": 1644597832572,
     "user": {
      "displayName": "Michael Gd",
      "photoUrl": "https://lh3.googleusercontent.com/a/default-user=s64",
      "userId": "11180041065344820766"
     },
     "user_tz": -180
    },
    "id": "o0KjRfoR2alF"
   },
   "outputs": [],
   "source": [
    "kill = pd.read_csv('PoliceKillingsUS.csv', encoding=\"windows-1252\")"
   ]
  },
  {
   "cell_type": "code",
   "execution_count": 3,
   "metadata": {
    "_uuid": "bfb975b648fbcbd1c6cdf1634f01e01371924a8c",
    "colab": {
     "base_uri": "https://localhost:8080/",
     "height": 206
    },
    "executionInfo": {
     "elapsed": 359,
     "status": "ok",
     "timestamp": 1644597835493,
     "user": {
      "displayName": "Michael Gd",
      "photoUrl": "https://lh3.googleusercontent.com/a/default-user=s64",
      "userId": "11180041065344820766"
     },
     "user_tz": -180
    },
    "id": "olpSFCOo2alG",
    "outputId": "4f86b94f-e8ea-480a-d1e3-411be3991e0a"
   },
   "outputs": [
    {
     "data": {
      "text/html": [
       "<div>\n",
       "<style scoped>\n",
       "    .dataframe tbody tr th:only-of-type {\n",
       "        vertical-align: middle;\n",
       "    }\n",
       "\n",
       "    .dataframe tbody tr th {\n",
       "        vertical-align: top;\n",
       "    }\n",
       "\n",
       "    .dataframe thead th {\n",
       "        text-align: right;\n",
       "    }\n",
       "</style>\n",
       "<table border=\"1\" class=\"dataframe\">\n",
       "  <thead>\n",
       "    <tr style=\"text-align: right;\">\n",
       "      <th></th>\n",
       "      <th>id</th>\n",
       "      <th>name</th>\n",
       "      <th>date</th>\n",
       "      <th>manner_of_death</th>\n",
       "      <th>armed</th>\n",
       "      <th>age</th>\n",
       "      <th>gender</th>\n",
       "      <th>race</th>\n",
       "      <th>city</th>\n",
       "      <th>state</th>\n",
       "      <th>signs_of_mental_illness</th>\n",
       "      <th>threat_level</th>\n",
       "      <th>flee</th>\n",
       "      <th>body_camera</th>\n",
       "    </tr>\n",
       "  </thead>\n",
       "  <tbody>\n",
       "    <tr>\n",
       "      <th>0</th>\n",
       "      <td>3</td>\n",
       "      <td>Tim Elliot</td>\n",
       "      <td>02/01/15</td>\n",
       "      <td>shot</td>\n",
       "      <td>gun</td>\n",
       "      <td>53.0</td>\n",
       "      <td>M</td>\n",
       "      <td>A</td>\n",
       "      <td>Shelton</td>\n",
       "      <td>WA</td>\n",
       "      <td>True</td>\n",
       "      <td>attack</td>\n",
       "      <td>Not fleeing</td>\n",
       "      <td>False</td>\n",
       "    </tr>\n",
       "    <tr>\n",
       "      <th>1</th>\n",
       "      <td>4</td>\n",
       "      <td>Lewis Lee Lembke</td>\n",
       "      <td>02/01/15</td>\n",
       "      <td>shot</td>\n",
       "      <td>gun</td>\n",
       "      <td>47.0</td>\n",
       "      <td>M</td>\n",
       "      <td>W</td>\n",
       "      <td>Aloha</td>\n",
       "      <td>OR</td>\n",
       "      <td>False</td>\n",
       "      <td>attack</td>\n",
       "      <td>Not fleeing</td>\n",
       "      <td>False</td>\n",
       "    </tr>\n",
       "    <tr>\n",
       "      <th>2</th>\n",
       "      <td>5</td>\n",
       "      <td>John Paul Quintero</td>\n",
       "      <td>03/01/15</td>\n",
       "      <td>shot and Tasered</td>\n",
       "      <td>unarmed</td>\n",
       "      <td>23.0</td>\n",
       "      <td>M</td>\n",
       "      <td>H</td>\n",
       "      <td>Wichita</td>\n",
       "      <td>KS</td>\n",
       "      <td>False</td>\n",
       "      <td>other</td>\n",
       "      <td>Not fleeing</td>\n",
       "      <td>False</td>\n",
       "    </tr>\n",
       "    <tr>\n",
       "      <th>3</th>\n",
       "      <td>8</td>\n",
       "      <td>Matthew Hoffman</td>\n",
       "      <td>04/01/15</td>\n",
       "      <td>shot</td>\n",
       "      <td>toy weapon</td>\n",
       "      <td>32.0</td>\n",
       "      <td>M</td>\n",
       "      <td>W</td>\n",
       "      <td>San Francisco</td>\n",
       "      <td>CA</td>\n",
       "      <td>True</td>\n",
       "      <td>attack</td>\n",
       "      <td>Not fleeing</td>\n",
       "      <td>False</td>\n",
       "    </tr>\n",
       "    <tr>\n",
       "      <th>4</th>\n",
       "      <td>9</td>\n",
       "      <td>Michael Rodriguez</td>\n",
       "      <td>04/01/15</td>\n",
       "      <td>shot</td>\n",
       "      <td>nail gun</td>\n",
       "      <td>39.0</td>\n",
       "      <td>M</td>\n",
       "      <td>H</td>\n",
       "      <td>Evans</td>\n",
       "      <td>CO</td>\n",
       "      <td>False</td>\n",
       "      <td>attack</td>\n",
       "      <td>Not fleeing</td>\n",
       "      <td>False</td>\n",
       "    </tr>\n",
       "  </tbody>\n",
       "</table>\n",
       "</div>"
      ],
      "text/plain": [
       "   id                name      date   manner_of_death       armed   age  \\\n",
       "0   3          Tim Elliot  02/01/15              shot         gun  53.0   \n",
       "1   4    Lewis Lee Lembke  02/01/15              shot         gun  47.0   \n",
       "2   5  John Paul Quintero  03/01/15  shot and Tasered     unarmed  23.0   \n",
       "3   8     Matthew Hoffman  04/01/15              shot  toy weapon  32.0   \n",
       "4   9   Michael Rodriguez  04/01/15              shot    nail gun  39.0   \n",
       "\n",
       "  gender race           city state  signs_of_mental_illness threat_level  \\\n",
       "0      M    A        Shelton    WA                     True       attack   \n",
       "1      M    W          Aloha    OR                    False       attack   \n",
       "2      M    H        Wichita    KS                    False        other   \n",
       "3      M    W  San Francisco    CA                     True       attack   \n",
       "4      M    H          Evans    CO                    False       attack   \n",
       "\n",
       "          flee  body_camera  \n",
       "0  Not fleeing        False  \n",
       "1  Not fleeing        False  \n",
       "2  Not fleeing        False  \n",
       "3  Not fleeing        False  \n",
       "4  Not fleeing        False  "
      ]
     },
     "execution_count": 3,
     "metadata": {},
     "output_type": "execute_result"
    }
   ],
   "source": [
    "kill.head()"
   ]
  },
  {
   "cell_type": "code",
   "execution_count": 4,
   "metadata": {},
   "outputs": [
    {
     "data": {
      "text/plain": [
       "Index(['id', 'name', 'date', 'manner_of_death', 'armed', 'age', 'gender',\n",
       "       'race', 'city', 'state', 'signs_of_mental_illness', 'threat_level',\n",
       "       'flee', 'body_camera'],\n",
       "      dtype='object')"
      ]
     },
     "execution_count": 4,
     "metadata": {},
     "output_type": "execute_result"
    }
   ],
   "source": [
    "kill.columns"
   ]
  },
  {
   "cell_type": "code",
   "execution_count": 5,
   "metadata": {
    "colab": {
     "base_uri": "https://localhost:8080/"
    },
    "executionInfo": {
     "elapsed": 236,
     "status": "ok",
     "timestamp": 1644597836882,
     "user": {
      "displayName": "Michael Gd",
      "photoUrl": "https://lh3.googleusercontent.com/a/default-user=s64",
      "userId": "11180041065344820766"
     },
     "user_tz": -180
    },
    "id": "hG8Cb6lT2alH",
    "outputId": "dee8b1d8-75be-4369-f749-5237d3259242"
   },
   "outputs": [
    {
     "data": {
      "text/plain": [
       "(2535, 14)"
      ]
     },
     "execution_count": 5,
     "metadata": {},
     "output_type": "execute_result"
    }
   ],
   "source": [
    "kill.shape"
   ]
  },
  {
   "cell_type": "markdown",
   "metadata": {
    "id": "YuRLD4ef2alN"
   },
   "source": [
    "## 1a: Box plot of age in both genders separeted by manner of death."
   ]
  },
  {
   "cell_type": "code",
   "execution_count": 6,
   "metadata": {
    "_uuid": "9d8a16335d60780773cba16fb23066e2cf48be8d",
    "colab": {
     "base_uri": "https://localhost:8080/",
     "height": 206
    },
    "executionInfo": {
     "elapsed": 360,
     "status": "ok",
     "timestamp": 1644597851392,
     "user": {
      "displayName": "Michael Gd",
      "photoUrl": "https://lh3.googleusercontent.com/a/default-user=s64",
      "userId": "11180041065344820766"
     },
     "user_tz": -180
    },
    "id": "kMrQsH9z2alN",
    "outputId": "1eabfe2a-0f24-4c63-d315-040458ea667e"
   },
   "outputs": [
    {
     "data": {
      "text/html": [
       "<div>\n",
       "<style scoped>\n",
       "    .dataframe tbody tr th:only-of-type {\n",
       "        vertical-align: middle;\n",
       "    }\n",
       "\n",
       "    .dataframe tbody tr th {\n",
       "        vertical-align: top;\n",
       "    }\n",
       "\n",
       "    .dataframe thead th {\n",
       "        text-align: right;\n",
       "    }\n",
       "</style>\n",
       "<table border=\"1\" class=\"dataframe\">\n",
       "  <thead>\n",
       "    <tr style=\"text-align: right;\">\n",
       "      <th></th>\n",
       "      <th>id</th>\n",
       "      <th>name</th>\n",
       "      <th>date</th>\n",
       "      <th>manner_of_death</th>\n",
       "      <th>armed</th>\n",
       "      <th>age</th>\n",
       "      <th>gender</th>\n",
       "      <th>race</th>\n",
       "      <th>city</th>\n",
       "      <th>state</th>\n",
       "      <th>signs_of_mental_illness</th>\n",
       "      <th>threat_level</th>\n",
       "      <th>flee</th>\n",
       "      <th>body_camera</th>\n",
       "    </tr>\n",
       "  </thead>\n",
       "  <tbody>\n",
       "    <tr>\n",
       "      <th>0</th>\n",
       "      <td>3</td>\n",
       "      <td>Tim Elliot</td>\n",
       "      <td>02/01/15</td>\n",
       "      <td>shot</td>\n",
       "      <td>gun</td>\n",
       "      <td>53.0</td>\n",
       "      <td>M</td>\n",
       "      <td>A</td>\n",
       "      <td>Shelton</td>\n",
       "      <td>WA</td>\n",
       "      <td>True</td>\n",
       "      <td>attack</td>\n",
       "      <td>Not fleeing</td>\n",
       "      <td>False</td>\n",
       "    </tr>\n",
       "    <tr>\n",
       "      <th>1</th>\n",
       "      <td>4</td>\n",
       "      <td>Lewis Lee Lembke</td>\n",
       "      <td>02/01/15</td>\n",
       "      <td>shot</td>\n",
       "      <td>gun</td>\n",
       "      <td>47.0</td>\n",
       "      <td>M</td>\n",
       "      <td>W</td>\n",
       "      <td>Aloha</td>\n",
       "      <td>OR</td>\n",
       "      <td>False</td>\n",
       "      <td>attack</td>\n",
       "      <td>Not fleeing</td>\n",
       "      <td>False</td>\n",
       "    </tr>\n",
       "    <tr>\n",
       "      <th>2</th>\n",
       "      <td>5</td>\n",
       "      <td>John Paul Quintero</td>\n",
       "      <td>03/01/15</td>\n",
       "      <td>shot and Tasered</td>\n",
       "      <td>unarmed</td>\n",
       "      <td>23.0</td>\n",
       "      <td>M</td>\n",
       "      <td>H</td>\n",
       "      <td>Wichita</td>\n",
       "      <td>KS</td>\n",
       "      <td>False</td>\n",
       "      <td>other</td>\n",
       "      <td>Not fleeing</td>\n",
       "      <td>False</td>\n",
       "    </tr>\n",
       "    <tr>\n",
       "      <th>3</th>\n",
       "      <td>8</td>\n",
       "      <td>Matthew Hoffman</td>\n",
       "      <td>04/01/15</td>\n",
       "      <td>shot</td>\n",
       "      <td>toy weapon</td>\n",
       "      <td>32.0</td>\n",
       "      <td>M</td>\n",
       "      <td>W</td>\n",
       "      <td>San Francisco</td>\n",
       "      <td>CA</td>\n",
       "      <td>True</td>\n",
       "      <td>attack</td>\n",
       "      <td>Not fleeing</td>\n",
       "      <td>False</td>\n",
       "    </tr>\n",
       "    <tr>\n",
       "      <th>4</th>\n",
       "      <td>9</td>\n",
       "      <td>Michael Rodriguez</td>\n",
       "      <td>04/01/15</td>\n",
       "      <td>shot</td>\n",
       "      <td>nail gun</td>\n",
       "      <td>39.0</td>\n",
       "      <td>M</td>\n",
       "      <td>H</td>\n",
       "      <td>Evans</td>\n",
       "      <td>CO</td>\n",
       "      <td>False</td>\n",
       "      <td>attack</td>\n",
       "      <td>Not fleeing</td>\n",
       "      <td>False</td>\n",
       "    </tr>\n",
       "  </tbody>\n",
       "</table>\n",
       "</div>"
      ],
      "text/plain": [
       "   id                name      date   manner_of_death       armed   age  \\\n",
       "0   3          Tim Elliot  02/01/15              shot         gun  53.0   \n",
       "1   4    Lewis Lee Lembke  02/01/15              shot         gun  47.0   \n",
       "2   5  John Paul Quintero  03/01/15  shot and Tasered     unarmed  23.0   \n",
       "3   8     Matthew Hoffman  04/01/15              shot  toy weapon  32.0   \n",
       "4   9   Michael Rodriguez  04/01/15              shot    nail gun  39.0   \n",
       "\n",
       "  gender race           city state  signs_of_mental_illness threat_level  \\\n",
       "0      M    A        Shelton    WA                     True       attack   \n",
       "1      M    W          Aloha    OR                    False       attack   \n",
       "2      M    H        Wichita    KS                    False        other   \n",
       "3      M    W  San Francisco    CA                     True       attack   \n",
       "4      M    H          Evans    CO                    False       attack   \n",
       "\n",
       "          flee  body_camera  \n",
       "0  Not fleeing        False  \n",
       "1  Not fleeing        False  \n",
       "2  Not fleeing        False  \n",
       "3  Not fleeing        False  \n",
       "4  Not fleeing        False  "
      ]
     },
     "execution_count": 6,
     "metadata": {},
     "output_type": "execute_result"
    }
   ],
   "source": [
    "kill.head()"
   ]
  },
  {
   "cell_type": "code",
   "execution_count": 8,
   "metadata": {
    "_uuid": "9c0528daf1c171ae70c1c1f2f2c1f73ebacba85c",
    "colab": {
     "base_uri": "https://localhost:8080/"
    },
    "executionInfo": {
     "elapsed": 247,
     "status": "ok",
     "timestamp": 1644597853660,
     "user": {
      "displayName": "Michael Gd",
      "photoUrl": "https://lh3.googleusercontent.com/a/default-user=s64",
      "userId": "11180041065344820766"
     },
     "user_tz": -180
    },
    "id": "tiZN2nEz2alN",
    "outputId": "3be0cc0a-f6ec-4a76-be39-e0dba6782eae"
   },
   "outputs": [
    {
     "data": {
      "text/plain": [
       "<bound method Series.unique of 0                   shot\n",
       "1                   shot\n",
       "2       shot and Tasered\n",
       "3                   shot\n",
       "4                   shot\n",
       "              ...       \n",
       "2530                shot\n",
       "2531                shot\n",
       "2532                shot\n",
       "2533                shot\n",
       "2534                shot\n",
       "Name: manner_of_death, Length: 2535, dtype: object>"
      ]
     },
     "execution_count": 8,
     "metadata": {},
     "output_type": "execute_result"
    }
   ],
   "source": [
    "kill.manner_of_death.unique"
   ]
  },
  {
   "cell_type": "markdown",
   "metadata": {
    "id": "kAN1jKeE2alO"
   },
   "source": [
    "**INSTRUCTION: Demonstrate the Qurtiles of age in both genders separeted by manner of death.**"
   ]
  },
  {
   "cell_type": "code",
   "execution_count": 48,
   "metadata": {
    "scrolled": true
   },
   "outputs": [
    {
     "data": {
      "image/png": "[encoded data removed]",
      "text/plain": [
       "<Figure size 720x360 with 1 Axes>"
      ]
     },
     "metadata": {
      "needs_background": "light"
     },
     "output_type": "display_data"
    }
   ],
   "source": [
    "# with seaborn\n",
    "plt.figure(figsize=(10, 5))\n",
    "sns.boxplot(x='gender', y='age', data=kill, hue='manner_of_death', width=0.8);"
   ]
  },
  {
   "cell_type": "code",
   "execution_count": null,
   "metadata": {},
   "outputs": [],
   "source": [
    "fig, (ax1,ax2) = plt.subplots()"
   ]
  },
  {
   "cell_type": "markdown",
   "metadata": {
    "_uuid": "9b3ff5b459aa93bbce95ba93f6939708473ef040",
    "id": "KXtWPEIy2alO"
   },
   "source": [
    "## 1b: Swarm Plot "
   ]
  },
  {
   "cell_type": "markdown",
   "metadata": {
    "id": "lDAkV5tK2alO"
   },
   "source": [
    "**INSTRUCTION: Demonstrate the age in both genders separeted by manner of death by a swarm plot.**"
   ]
  },
  {
   "cell_type": "code",
   "execution_count": 11,
   "metadata": {},
   "outputs": [
    {
     "data": {
      "text/plain": [
       "<AxesSubplot:xlabel='gender', ylabel='age'>"
      ]
     },
     "execution_count": 11,
     "metadata": {},
     "output_type": "execute_result"
    },
    {
     "data": {
      "image/png": "[encoded data removed]",
      "text/plain": [
       "<Figure size 720x432 with 1 Axes>"
      ]
     },
     "metadata": {
      "needs_background": "light"
     },
     "output_type": "display_data"
    }
   ],
   "source": [
    "# with seaborn\n",
    "plt.figure(figsize=(10, 6))\n",
    "sns.swarmplot(x=\"gender\", y=\"age\",data=kill, size=6, hue=\"manner_of_death\",dodge=False)\n",
    "#order=['F', 'M'] yaparsak f ve m yer degistirir bilmekte fayda var "
   ]
  },
  {
   "cell_type": "markdown",
   "metadata": {
    "id": "PjDifPQ82alT"
   },
   "source": [
    "## 2: Plot 12 most dangerous cities"
   ]
  },
  {
   "cell_type": "code",
   "execution_count": null,
   "metadata": {},
   "outputs": [],
   "source": [
    "\n",
    "\n"
   ]
  },
  {
   "cell_type": "code",
   "execution_count": 9,
   "metadata": {},
   "outputs": [
    {
     "data": {
      "text/plain": [
       "city\n",
       "Los Angeles     39\n",
       "Phoenix         31\n",
       "Houston         27\n",
       "Chicago         25\n",
       "Las Vegas       21\n",
       "San Antonio     20\n",
       "Columbus        19\n",
       "Miami           18\n",
       "Austin          18\n",
       "St. Louis       15\n",
       "Albuquerque     14\n",
       "Indianapolis    14\n",
       "dtype: int64"
      ]
     },
     "execution_count": 9,
     "metadata": {},
     "output_type": "execute_result"
    }
   ],
   "source": [
    "kill.groupby('city').size().sort_values(ascending=False).head(12)"
   ]
  },
  {
   "cell_type": "code",
   "execution_count": 10,
   "metadata": {},
   "outputs": [
    {
     "data": {
      "image/png": "[encoded data removed]",
      "text/plain": [
       "<Figure size 432x288 with 1 Axes>"
      ]
     },
     "metadata": {
      "needs_background": "light"
     },
     "output_type": "display_data"
    }
   ],
   "source": [
    "#I can see the location where city freg. is more likely to happen \n",
    "kill.groupby('city').size().sort_values(ascending=False).head(12).sort_values().plot(kind='barh');"
   ]
  },
  {
   "cell_type": "code",
   "execution_count": 12,
   "metadata": {
    "colab": {
     "base_uri": "https://localhost:8080/"
    },
    "executionInfo": {
     "elapsed": 227,
     "status": "ok",
     "timestamp": 1644597933438,
     "user": {
      "displayName": "Michael Gd",
      "photoUrl": "https://lh3.googleusercontent.com/a/default-user=s64",
      "userId": "11180041065344820766"
     },
     "user_tz": -180
    },
    "id": "C551mBW_2alT",
    "outputId": "1d9b404d-14f3-4ee0-fede-ccd72dc913f7"
   },
   "outputs": [
    {
     "data": {
      "text/plain": [
       "city\n",
       "Los Angeles     39\n",
       "Phoenix         31\n",
       "Houston         27\n",
       "Chicago         25\n",
       "Las Vegas       21\n",
       "San Antonio     20\n",
       "Columbus        19\n",
       "Miami           18\n",
       "Austin          18\n",
       "St. Louis       15\n",
       "Albuquerque     14\n",
       "Indianapolis    14\n",
       "dtype: int64"
      ]
     },
     "execution_count": 12,
     "metadata": {},
     "output_type": "execute_result"
    }
   ],
   "source": [
    "city_freq = kill.groupby('city').size().sort_values(ascending=False).head(12)\n",
    "city_freq"
   ]
  },
  {
   "cell_type": "code",
   "execution_count": 13,
   "metadata": {},
   "outputs": [
    {
     "data": {
      "text/plain": [
       "Index(['Los Angeles', 'Phoenix', 'Houston', 'Chicago', 'Las Vegas',\n",
       "       'San Antonio', 'Columbus', 'Miami', 'Austin', 'St. Louis',\n",
       "       'Albuquerque', 'Indianapolis'],\n",
       "      dtype='object', name='city')"
      ]
     },
     "execution_count": 13,
     "metadata": {},
     "output_type": "execute_result"
    }
   ],
   "source": [
    "city_freq.index"
   ]
  },
  {
   "cell_type": "code",
   "execution_count": 14,
   "metadata": {},
   "outputs": [
    {
     "data": {
      "text/plain": [
       "Index(['Los Angeles', 'Phoenix', 'Houston', 'Chicago', 'Las Vegas',\n",
       "       'San Antonio', 'Columbus', 'Miami', 'Austin', 'St. Louis',\n",
       "       'Albuquerque', 'Indianapolis'],\n",
       "      dtype='object', name='city')"
      ]
     },
     "execution_count": 14,
     "metadata": {},
     "output_type": "execute_result"
    }
   ],
   "source": [
    "city_freq.index"
   ]
  },
  {
   "cell_type": "code",
   "execution_count": 15,
   "metadata": {
    "colab": {
     "base_uri": "https://localhost:8080/",
     "height": 387
    },
    "executionInfo": {
     "elapsed": 780,
     "status": "ok",
     "timestamp": 1644597945565,
     "user": {
      "displayName": "Michael Gd",
      "photoUrl": "https://lh3.googleusercontent.com/a/default-user=s64",
      "userId": "11180041065344820766"
     },
     "user_tz": -180
    },
    "id": "Xaa5hf002alT",
    "outputId": "b45cca3a-c3b6-4b60-83cb-eee366a9e7d7",
    "scrolled": false
   },
   "outputs": [
    {
     "data": {
      "text/plain": [
       "array([39, 31, 27, 25, 21, 20, 19, 18, 18, 15, 14, 14])"
      ]
     },
     "execution_count": 15,
     "metadata": {},
     "output_type": "execute_result"
    }
   ],
   "source": [
    "city_freq.values\n",
    "\n"
   ]
  },
  {
   "cell_type": "code",
   "execution_count": 18,
   "metadata": {},
   "outputs": [
    {
     "data": {
      "image/png": "[encoded data removed]",
      "text/plain": [
       "<Figure size 576x360 with 1 Axes>"
      ]
     },
     "metadata": {
      "needs_background": "light"
     },
     "output_type": "display_data"
    }
   ],
   "source": [
    "# with seaborn countplot\n",
    "fig, ax =plt.subplots(figsize=(8,5))\n",
    "sns.countplot(x= 'city', order=kill.city.value_counts()[:12].index, data=kill)\n",
    "ax.set_title('Most dangerous cities',color='b')\n",
    "ax.set_xticklabels(city_freq.index, rotation=45);\n",
    "#sola degil saga yatirmak istiyorsam - koyuyorum basina "
   ]
  },
  {
   "cell_type": "code",
   "execution_count": 17,
   "metadata": {
    "colab": {
     "base_uri": "https://localhost:8080/",
     "height": 401
    },
    "executionInfo": {
     "elapsed": 675,
     "status": "ok",
     "timestamp": 1644597987912,
     "user": {
      "displayName": "Michael Gd",
      "photoUrl": "https://lh3.googleusercontent.com/a/default-user=s64",
      "userId": "11180041065344820766"
     },
     "user_tz": -180
    },
    "id": "aZScRhqP2alT",
    "outputId": "bf609f51-7bed-45b1-8c02-a822901e1d85",
    "scrolled": false
   },
   "outputs": [
    {
     "data": {
      "image/png": "[encoded data removed]",
      "text/plain": [
       "<Figure size 576x360 with 1 Axes>"
      ]
     },
     "metadata": {
      "needs_background": "light"
     },
     "output_type": "display_data"
    }
   ],
   "source": [
    "# with seaborn barplot\n",
    "fig, ax =plt.subplots(figsize=(8,5))\n",
    "ax = sns.barplot(x=city_freq.index, y=city_freq.values, data=kill)\n",
    "ax.set_title('Most dangerous cities')\n",
    "#fonsizeini ayarlamak istersemde fontsize parametresiyle ayarlayabilirim \n",
    "ax.set_xticklabels(city_freq.index,rotation=45);"
   ]
  },
  {
   "cell_type": "markdown",
   "metadata": {
    "id": "fRkQXetu2alU"
   },
   "source": [
    "## 3: Plot 20 most dangerous states"
   ]
  },
  {
   "cell_type": "code",
   "execution_count": 19,
   "metadata": {
    "colab": {
     "base_uri": "https://localhost:8080/"
    },
    "executionInfo": {
     "elapsed": 241,
     "status": "ok",
     "timestamp": 1644598020189,
     "user": {
      "displayName": "Michael Gd",
      "photoUrl": "https://lh3.googleusercontent.com/a/default-user=s64",
      "userId": "11180041065344820766"
     },
     "user_tz": -180
    },
    "id": "JsS35CjW2alU",
    "outputId": "c5d89147-d819-4391-fa18-eb72c82cc5b9"
   },
   "outputs": [
    {
     "data": {
      "text/plain": [
       "CA    424\n",
       "TX    225\n",
       "FL    154\n",
       "AZ    118\n",
       "OH     79\n",
       "OK     78\n",
       "CO     74\n",
       "GA     70\n",
       "NC     69\n",
       "MO     64\n",
       "IL     62\n",
       "WA     62\n",
       "TN     59\n",
       "LA     57\n",
       "NM     51\n",
       "PA     51\n",
       "AL     50\n",
       "VA     47\n",
       "NY     45\n",
       "SC     44\n",
       "Name: state, dtype: int64"
      ]
     },
     "execution_count": 19,
     "metadata": {},
     "output_type": "execute_result"
    }
   ],
   "source": [
    "state_freq = kill.state.value_counts()[:20]\n",
    "state_freq"
   ]
  },
  {
   "cell_type": "code",
   "execution_count": 20,
   "metadata": {},
   "outputs": [
    {
     "data": {
      "text/plain": [
       "Index(['CA', 'TX', 'FL', 'AZ', 'OH', 'OK', 'CO', 'GA', 'NC', 'MO', 'IL', 'WA',\n",
       "       'TN', 'LA', 'NM', 'PA', 'AL', 'VA', 'NY', 'SC'],\n",
       "      dtype='object')"
      ]
     },
     "execution_count": 20,
     "metadata": {},
     "output_type": "execute_result"
    }
   ],
   "source": [
    "state_freq.index"
   ]
  },
  {
   "cell_type": "code",
   "execution_count": 21,
   "metadata": {},
   "outputs": [
    {
     "data": {
      "text/plain": [
       "array([424, 225, 154, 118,  79,  78,  74,  70,  69,  64,  62,  62,  59,\n",
       "        57,  51,  51,  50,  47,  45,  44])"
      ]
     },
     "execution_count": 21,
     "metadata": {},
     "output_type": "execute_result"
    }
   ],
   "source": [
    "state_freq.values"
   ]
  },
  {
   "cell_type": "code",
   "execution_count": 26,
   "metadata": {
    "colab": {
     "base_uri": "https://localhost:8080/",
     "height": 346
    },
    "executionInfo": {
     "elapsed": 758,
     "status": "ok",
     "timestamp": 1644598029868,
     "user": {
      "displayName": "Michael Gd",
      "photoUrl": "https://lh3.googleusercontent.com/a/default-user=s64",
      "userId": "11180041065344820766"
     },
     "user_tz": -180
    },
    "id": "wovhY6u-2alU",
    "outputId": "6f6f548e-8642-4bf5-f36b-6eb971008d9f",
    "scrolled": true
   },
   "outputs": [
    {
     "data": {
      "image/png": "[encoded data removed]",
      "text/plain": [
       "<Figure size 576x360 with 1 Axes>"
      ]
     },
     "metadata": {
      "needs_background": "light"
     },
     "output_type": "display_data"
    }
   ],
   "source": [
    "# with seaborn barplot\n",
    "fig, ax =plt.subplots(figsize=(8,5))\n",
    "ax = sns.barplot(x=state_freq.index, y=state_freq.values , data=kill)\n",
    "ax.set_title('Most dangerous cities', color='b', fontweight= 'bold') #fontweight parametresi bold yaptigimizda mavi oldu \n",
    "ax.set_xticklabels(state_freq.index,rotation=45);"
   ]
  },
  {
   "cell_type": "code",
   "execution_count": null,
   "metadata": {},
   "outputs": [],
   "source": [
    "\n"
   ]
  },
  {
   "cell_type": "code",
   "execution_count": null,
   "metadata": {
    "colab": {
     "base_uri": "https://localhost:8080/",
     "height": 360
    },
    "executionInfo": {
     "elapsed": 761,
     "status": "ok",
     "timestamp": 1644598043739,
     "user": {
      "displayName": "Michael Gd",
      "photoUrl": "https://lh3.googleusercontent.com/a/default-user=s64",
      "userId": "11180041065344820766"
     },
     "user_tz": -180
    },
    "id": "btgi4Dy_2alU",
    "outputId": "cb79bf31-67ae-4f8e-8d7d-ae821f26e7b3",
    "scrolled": true
   },
   "outputs": [],
   "source": [
    "# with seaborn countplot\n",
    "fig, ax =plt.subplots(figsize=(8,5))\n",
    "sns.countplot(x='state', order=state_freq.index, data=kill)\n",
    "ax.set_title('Most dangerous states')\n",
    "ax.set_xticklabels(state_freq.index, rotation=45);"
   ]
  },
  {
   "cell_type": "markdown",
   "metadata": {
    "id": "pMtlcHaS2alU"
   },
   "source": [
    "## 4: Plot Having mental ilness or not for killed people"
   ]
  },
  {
   "cell_type": "code",
   "execution_count": 27,
   "metadata": {},
   "outputs": [
    {
     "data": {
      "text/html": [
       "<div>\n",
       "<style scoped>\n",
       "    .dataframe tbody tr th:only-of-type {\n",
       "        vertical-align: middle;\n",
       "    }\n",
       "\n",
       "    .dataframe tbody tr th {\n",
       "        vertical-align: top;\n",
       "    }\n",
       "\n",
       "    .dataframe thead th {\n",
       "        text-align: right;\n",
       "    }\n",
       "</style>\n",
       "<table border=\"1\" class=\"dataframe\">\n",
       "  <thead>\n",
       "    <tr style=\"text-align: right;\">\n",
       "      <th></th>\n",
       "      <th>id</th>\n",
       "      <th>name</th>\n",
       "      <th>date</th>\n",
       "      <th>manner_of_death</th>\n",
       "      <th>armed</th>\n",
       "      <th>age</th>\n",
       "      <th>gender</th>\n",
       "      <th>race</th>\n",
       "      <th>city</th>\n",
       "      <th>state</th>\n",
       "      <th>signs_of_mental_illness</th>\n",
       "      <th>threat_level</th>\n",
       "      <th>flee</th>\n",
       "      <th>body_camera</th>\n",
       "    </tr>\n",
       "  </thead>\n",
       "  <tbody>\n",
       "    <tr>\n",
       "      <th>0</th>\n",
       "      <td>3</td>\n",
       "      <td>Tim Elliot</td>\n",
       "      <td>02/01/15</td>\n",
       "      <td>shot</td>\n",
       "      <td>gun</td>\n",
       "      <td>53.0</td>\n",
       "      <td>M</td>\n",
       "      <td>A</td>\n",
       "      <td>Shelton</td>\n",
       "      <td>WA</td>\n",
       "      <td>True</td>\n",
       "      <td>attack</td>\n",
       "      <td>Not fleeing</td>\n",
       "      <td>False</td>\n",
       "    </tr>\n",
       "    <tr>\n",
       "      <th>1</th>\n",
       "      <td>4</td>\n",
       "      <td>Lewis Lee Lembke</td>\n",
       "      <td>02/01/15</td>\n",
       "      <td>shot</td>\n",
       "      <td>gun</td>\n",
       "      <td>47.0</td>\n",
       "      <td>M</td>\n",
       "      <td>W</td>\n",
       "      <td>Aloha</td>\n",
       "      <td>OR</td>\n",
       "      <td>False</td>\n",
       "      <td>attack</td>\n",
       "      <td>Not fleeing</td>\n",
       "      <td>False</td>\n",
       "    </tr>\n",
       "    <tr>\n",
       "      <th>2</th>\n",
       "      <td>5</td>\n",
       "      <td>John Paul Quintero</td>\n",
       "      <td>03/01/15</td>\n",
       "      <td>shot and Tasered</td>\n",
       "      <td>unarmed</td>\n",
       "      <td>23.0</td>\n",
       "      <td>M</td>\n",
       "      <td>H</td>\n",
       "      <td>Wichita</td>\n",
       "      <td>KS</td>\n",
       "      <td>False</td>\n",
       "      <td>other</td>\n",
       "      <td>Not fleeing</td>\n",
       "      <td>False</td>\n",
       "    </tr>\n",
       "    <tr>\n",
       "      <th>3</th>\n",
       "      <td>8</td>\n",
       "      <td>Matthew Hoffman</td>\n",
       "      <td>04/01/15</td>\n",
       "      <td>shot</td>\n",
       "      <td>toy weapon</td>\n",
       "      <td>32.0</td>\n",
       "      <td>M</td>\n",
       "      <td>W</td>\n",
       "      <td>San Francisco</td>\n",
       "      <td>CA</td>\n",
       "      <td>True</td>\n",
       "      <td>attack</td>\n",
       "      <td>Not fleeing</td>\n",
       "      <td>False</td>\n",
       "    </tr>\n",
       "    <tr>\n",
       "      <th>4</th>\n",
       "      <td>9</td>\n",
       "      <td>Michael Rodriguez</td>\n",
       "      <td>04/01/15</td>\n",
       "      <td>shot</td>\n",
       "      <td>nail gun</td>\n",
       "      <td>39.0</td>\n",
       "      <td>M</td>\n",
       "      <td>H</td>\n",
       "      <td>Evans</td>\n",
       "      <td>CO</td>\n",
       "      <td>False</td>\n",
       "      <td>attack</td>\n",
       "      <td>Not fleeing</td>\n",
       "      <td>False</td>\n",
       "    </tr>\n",
       "  </tbody>\n",
       "</table>\n",
       "</div>"
      ],
      "text/plain": [
       "   id                name      date   manner_of_death       armed   age  \\\n",
       "0   3          Tim Elliot  02/01/15              shot         gun  53.0   \n",
       "1   4    Lewis Lee Lembke  02/01/15              shot         gun  47.0   \n",
       "2   5  John Paul Quintero  03/01/15  shot and Tasered     unarmed  23.0   \n",
       "3   8     Matthew Hoffman  04/01/15              shot  toy weapon  32.0   \n",
       "4   9   Michael Rodriguez  04/01/15              shot    nail gun  39.0   \n",
       "\n",
       "  gender race           city state  signs_of_mental_illness threat_level  \\\n",
       "0      M    A        Shelton    WA                     True       attack   \n",
       "1      M    W          Aloha    OR                    False       attack   \n",
       "2      M    H        Wichita    KS                    False        other   \n",
       "3      M    W  San Francisco    CA                     True       attack   \n",
       "4      M    H          Evans    CO                    False       attack   \n",
       "\n",
       "          flee  body_camera  \n",
       "0  Not fleeing        False  \n",
       "1  Not fleeing        False  \n",
       "2  Not fleeing        False  \n",
       "3  Not fleeing        False  \n",
       "4  Not fleeing        False  "
      ]
     },
     "execution_count": 27,
     "metadata": {},
     "output_type": "execute_result"
    }
   ],
   "source": [
    "kill.head()"
   ]
  },
  {
   "cell_type": "code",
   "execution_count": 28,
   "metadata": {
    "colab": {
     "base_uri": "https://localhost:8080/"
    },
    "executionInfo": {
     "elapsed": 5,
     "status": "ok",
     "timestamp": 1644598080978,
     "user": {
      "displayName": "Michael Gd",
      "photoUrl": "https://lh3.googleusercontent.com/a/default-user=s64",
      "userId": "11180041065344820766"
     },
     "user_tz": -180
    },
    "id": "3uPMye7W2alU",
    "outputId": "95d46279-f2b3-4b41-a007-059c4b9a7057"
   },
   "outputs": [
    {
     "data": {
      "text/plain": [
       "False    1902\n",
       "True      633\n",
       "Name: signs_of_mental_illness, dtype: int64"
      ]
     },
     "execution_count": 28,
     "metadata": {},
     "output_type": "execute_result"
    }
   ],
   "source": [
    "illness = kill.signs_of_mental_illness.value_counts()\n",
    "illness"
   ]
  },
  {
   "cell_type": "code",
   "execution_count": 29,
   "metadata": {},
   "outputs": [
    {
     "data": {
      "image/png": "[encoded data removed]",
      "text/plain": [
       "<Figure size 432x288 with 1 Axes>"
      ]
     },
     "metadata": {
      "needs_background": "light"
     },
     "output_type": "display_data"
    }
   ],
   "source": [
    "# with seaborn\n",
    "sns.countplot(x='signs_of_mental_illness', data=kill);"
   ]
  },
  {
   "cell_type": "code",
   "execution_count": 32,
   "metadata": {},
   "outputs": [
    {
     "data": {
      "image/png": "[encoded data removed]",
      "text/plain": [
       "<Figure size 900x540 with 1 Axes>"
      ]
     },
     "metadata": {},
     "output_type": "display_data"
    }
   ],
   "source": [
    "#dpi yazilarin cozunurlugunu duzelttti\n",
    "\n",
    "plt.figure(figsize = (10,6),dpi = 90,facecolor=\"red\")\n",
    "sns.barplot(kill.signs_of_mental_illness.value_counts().index,\n",
    "           kill.signs_of_mental_illness.value_counts().values,\n",
    "           ci=None);"
   ]
  },
  {
   "cell_type": "markdown",
   "metadata": {
    "id": "6tVp5fRT2alV"
   },
   "source": [
    "## 5: Plot number of Threat Types"
   ]
  },
  {
   "cell_type": "code",
   "execution_count": 37,
   "metadata": {
    "colab": {
     "base_uri": "https://localhost:8080/"
    },
    "executionInfo": {
     "elapsed": 237,
     "status": "ok",
     "timestamp": 1644598106403,
     "user": {
      "displayName": "Michael Gd",
      "photoUrl": "https://lh3.googleusercontent.com/a/default-user=s64",
      "userId": "11180041065344820766"
     },
     "user_tz": -180
    },
    "id": "vXh9p44_2alV",
    "outputId": "73b5e015-5031-4c0e-c4a8-5474e9cd2621",
    "scrolled": true
   },
   "outputs": [
    {
     "data": {
      "text/plain": [
       "attack          1611\n",
       "other            766\n",
       "undetermined     158\n",
       "Name: threat_level, dtype: int64"
      ]
     },
     "execution_count": 37,
     "metadata": {},
     "output_type": "execute_result"
    }
   ],
   "source": [
    "threads_freq = kill.threat_level.value_counts()\n",
    "threads_freq"
   ]
  },
  {
   "cell_type": "code",
   "execution_count": 38,
   "metadata": {},
   "outputs": [
    {
     "data": {
      "text/plain": [
       "Index(['attack', 'other', 'undetermined'], dtype='object')"
      ]
     },
     "execution_count": 38,
     "metadata": {},
     "output_type": "execute_result"
    }
   ],
   "source": [
    "threads_freq.index"
   ]
  },
  {
   "cell_type": "code",
   "execution_count": 39,
   "metadata": {},
   "outputs": [
    {
     "data": {
      "text/plain": [
       "array([1611,  766,  158])"
      ]
     },
     "execution_count": 39,
     "metadata": {},
     "output_type": "execute_result"
    }
   ],
   "source": [
    "threads_freq.values"
   ]
  },
  {
   "cell_type": "code",
   "execution_count": null,
   "metadata": {},
   "outputs": [],
   "source": []
  },
  {
   "cell_type": "code",
   "execution_count": 40,
   "metadata": {
    "_cell_guid": "ae54b1be-3c86-46c9-b789-34a45fa9c48b",
    "_uuid": "cc137ddad8e9148c37c9e433a91a7a8f1d9ff3ca",
    "colab": {
     "base_uri": "https://localhost:8080/",
     "height": 280
    },
    "executionInfo": {
     "elapsed": 294,
     "status": "ok",
     "timestamp": 1644598120281,
     "user": {
      "displayName": "Michael Gd",
      "photoUrl": "https://lh3.googleusercontent.com/a/default-user=s64",
      "userId": "11180041065344820766"
     },
     "user_tz": -180
    },
    "id": "bvoqIHWx2alV",
    "outputId": "ccb20bc5-0058-4436-aa45-c3ec37c6f920"
   },
   "outputs": [
    {
     "data": {
      "image/png": "[encoded data removed]",
      "text/plain": [
       "<Figure size 432x288 with 1 Axes>"
      ]
     },
     "metadata": {
      "needs_background": "light"
     },
     "output_type": "display_data"
    }
   ],
   "source": [
    "# with seaborn\n",
    "sns.countplot(x='threat_level', data=kill);\n"
   ]
  },
  {
   "cell_type": "code",
   "execution_count": 43,
   "metadata": {},
   "outputs": [
    {
     "data": {
      "image/png": "[encoded data removed]",
      "text/plain": [
       "<Figure size 360x360 with 1 Axes>"
      ]
     },
     "metadata": {
      "needs_background": "light"
     },
     "output_type": "display_data"
    }
   ],
   "source": [
    "sns.catplot(x='threat_level', data=kill, kind='count');\n"
   ]
  },
  {
   "cell_type": "markdown",
   "metadata": {
    "id": "LfPMzBjF2alV"
   },
   "source": [
    "## 6: Plot number of Flee Types"
   ]
  },
  {
   "cell_type": "code",
   "execution_count": 44,
   "metadata": {
    "colab": {
     "base_uri": "https://localhost:8080/"
    },
    "executionInfo": {
     "elapsed": 236,
     "status": "ok",
     "timestamp": 1644598129253,
     "user": {
      "displayName": "Michael Gd",
      "photoUrl": "https://lh3.googleusercontent.com/a/default-user=s64",
      "userId": "11180041065344820766"
     },
     "user_tz": -180
    },
    "id": "DclhYQn72alV",
    "outputId": "da2b40fb-0f23-46a1-8db9-c370304501ee"
   },
   "outputs": [
    {
     "data": {
      "text/plain": [
       "Not fleeing    1695\n",
       "Car             385\n",
       "Foot            294\n",
       "Other            96\n",
       "Name: flee, dtype: int64"
      ]
     },
     "execution_count": 44,
     "metadata": {},
     "output_type": "execute_result"
    }
   ],
   "source": [
    "flee_freq = kill.flee.value_counts()\n",
    "flee_freq"
   ]
  },
  {
   "cell_type": "code",
   "execution_count": 45,
   "metadata": {
    "colab": {
     "base_uri": "https://localhost:8080/",
     "height": 279
    },
    "executionInfo": {
     "elapsed": 268,
     "status": "ok",
     "timestamp": 1644598136832,
     "user": {
      "displayName": "Michael Gd",
      "photoUrl": "https://lh3.googleusercontent.com/a/default-user=s64",
      "userId": "11180041065344820766"
     },
     "user_tz": -180
    },
    "id": "SPkPYB-a2alW",
    "outputId": "760dbe91-52c8-4029-d13f-db0fe005067e"
   },
   "outputs": [
    {
     "data": {
      "image/png": "[encoded data removed]",
      "text/plain": [
       "<Figure size 432x288 with 1 Axes>"
      ]
     },
     "metadata": {
      "needs_background": "light"
     },
     "output_type": "display_data"
    }
   ],
   "source": [
    "# with seaborn\n",
    "sns.countplot(x='flee', data=kill);"
   ]
  },
  {
   "cell_type": "code",
   "execution_count": 47,
   "metadata": {},
   "outputs": [
    {
     "data": {
      "image/png": "[encoded data removed]",
      "text/plain": [
       "<Figure size 360x360 with 1 Axes>"
      ]
     },
     "metadata": {
      "needs_background": "light"
     },
     "output_type": "display_data"
    }
   ],
   "source": [
    "sns.catplot(x='flee', data=kill, kind='count');"
   ]
  },
  {
   "cell_type": "code",
   "execution_count": null,
   "metadata": {},
   "outputs": [],
   "source": []
  }
 ],
 "metadata": {
  "colab": {
   "collapsed_sections": [],
   "name": "Copy of Assignment-2 solution.ipynb",
   "provenance": []
  },
  "kernelspec": {
   "display_name": "Python 3 (ipykernel)",
   "language": "python",
   "name": "python3"
  },
  "language_info": {
   "codemirror_mode": {
    "name": "ipython",
    "version": 3
   },
   "file_extension": ".py",
   "mimetype": "text/x-python",
   "name": "python",
   "nbconvert_exporter": "python",
   "pygments_lexer": "ipython3",
   "version": "3.9.7"
  }
 },
 "nbformat": 4,
 "nbformat_minor": 1
}
