{
 "cells": [
  {
   "cell_type": "code",
   "execution_count": null,
   "metadata": {},
   "outputs": [],
   "source": [
    "# Task : Estimating the risk of death from coronavirus. Write a program that;\n",
    "# Takes \"Yes\" or \"No\" from the user as an answer to the following questions :\n",
    "# Set a logical algorithm using boolean logic operators (and/or) and use if-statements with the given variables in order to print out us a message : \n",
    "# You are in risky group\"(if True ) or \"You are not in risky group\" (if False)."
   ]
  },
  {
   "cell_type": "code",
   "execution_count": 3,
   "metadata": {},
   "outputs": [
    {
     "name": "stdout",
     "output_type": "stream",
     "text": [
      "Are you a cigarette addict older than 75 years old?(yes/no):no\n",
      "Do you have a severe chronic disease?(yes/no):      Yes\n",
      "Is your immune system too weak?(yes/no):no\n",
      "You are in risky group\n"
     ]
    }
   ],
   "source": [
    "age = input(\"Are you a cigarette addict older than 75 years old?(yes/no):\")\n",
    "chronic = input(\"Do you have a severe chronic disease?(yes/no):\")\n",
    "immune = input(\"Is your immune system too weak?(yes/no):\")\n",
    "\n",
    "if age.strip().lower() == \"yes\" or chronic.strip().lower() == \"yes\" or immune.strip().lower() == \"yes\":\n",
    "    print(\"You are in risky group\")\n",
    "else:\n",
    "    print(\"You are not in risky group\")"
   ]
  },
  {
   "cell_type": "code",
   "execution_count": null,
   "metadata": {},
   "outputs": [],
   "source": []
  },
  {
   "cell_type": "code",
   "execution_count": null,
   "metadata": {},
   "outputs": [],
   "source": []
  },
  {
   "cell_type": "code",
   "execution_count": null,
   "metadata": {},
   "outputs": [],
   "source": []
  },
  {
   "cell_type": "code",
   "execution_count": null,
   "metadata": {},
   "outputs": [],
   "source": []
  },
  {
   "cell_type": "code",
   "execution_count": null,
   "metadata": {},
   "outputs": [],
   "source": []
  }
 ],
 "metadata": {
  "kernelspec": {
   "display_name": "Python 3",
   "language": "python",
   "name": "python3"
  },
  "language_info": {
   "codemirror_mode": {
    "name": "ipython",
    "version": 3
   },
   "file_extension": ".py",
   "mimetype": "text/x-python",
   "name": "python",
   "nbconvert_exporter": "python",
   "pygments_lexer": "ipython3",
   "version": "3.8.5"
  }
 },
 "nbformat": 4,
 "nbformat_minor": 4
}
