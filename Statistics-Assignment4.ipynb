{
 "cells": [
  {
   "cell_type": "code",
   "execution_count": 1,
   "id": "249136ed",
   "metadata": {},
   "outputs": [],
   "source": [
    "import numpy as np\n",
    "import pandas as pd\n",
    "from scipy import stats\n",
    "import seaborn as sns\n",
    "import matplotlib.pyplot as plt"
   ]
  },
  {
   "cell_type": "markdown",
   "id": "08c42ebc",
   "metadata": {},
   "source": [
    "EXERCISE 1. \n",
    "\n",
    "1.\tA salesperson has found that the probability of a sale on a single contact is approximately .3. If the salesperson contacts 10 prospects, what is the approximate probability of making at least one sale? (Wackerly, Ex.3.135)\n"
   ]
  },
  {
   "cell_type": "code",
   "execution_count": 2,
   "id": "384ed22d",
   "metadata": {},
   "outputs": [
    {
     "data": {
      "text/plain": [
       "0.9717524751"
      ]
     },
     "execution_count": 2,
     "metadata": {},
     "output_type": "execute_result"
    }
   ],
   "source": [
    "#Binomial Distribution\n",
    "\n",
    "# p=0.3 q=0.7 n=10 P(x≥1)=?\n",
    "\n",
    "1-stats.binom.cdf(0, 10, 0.3)"
   ]
  },
  {
   "cell_type": "code",
   "execution_count": null,
   "id": "10b909ff",
   "metadata": {},
   "outputs": [],
   "source": []
  },
  {
   "cell_type": "markdown",
   "id": "615fab4b",
   "metadata": {},
   "source": [
    "2.\tTen coins are tossed simultaneously. Find the probability of getting\n",
    "\n",
    "(i) at least seven heads\n",
    "\n"
   ]
  },
  {
   "cell_type": "code",
   "execution_count": 3,
   "id": "719bc6d5",
   "metadata": {},
   "outputs": [
    {
     "data": {
      "text/plain": [
       "0.171875"
      ]
     },
     "execution_count": 3,
     "metadata": {},
     "output_type": "execute_result"
    }
   ],
   "source": [
    "#Binomial Distribution\n",
    "\n",
    "#p=0.5 q=0.5 n=10  P(X≥7)=?\n",
    "\n",
    "1-stats.binom.cdf(k=6,n=10,p=0.5)"
   ]
  },
  {
   "cell_type": "code",
   "execution_count": null,
   "id": "c488f4ac",
   "metadata": {},
   "outputs": [],
   "source": []
  },
  {
   "cell_type": "markdown",
   "id": "864fd771",
   "metadata": {},
   "source": [
    "(ii) exactly seven heads"
   ]
  },
  {
   "cell_type": "code",
   "execution_count": 4,
   "id": "853063f6",
   "metadata": {},
   "outputs": [
    {
     "data": {
      "text/plain": [
       "0.11718749999999999"
      ]
     },
     "execution_count": 4,
     "metadata": {},
     "output_type": "execute_result"
    }
   ],
   "source": [
    "#Binomial Distribution\n",
    "\n",
    "#p=0.5 q=0.5 n=10  P(X=7)=?\n",
    "\n",
    "stats.binom.pmf(k=7,n=10,p=0.5)"
   ]
  },
  {
   "cell_type": "code",
   "execution_count": null,
   "id": "c0a614d4",
   "metadata": {},
   "outputs": [],
   "source": []
  },
  {
   "cell_type": "markdown",
   "id": "d587c341",
   "metadata": {},
   "source": [
    "(iii)at most seven heads"
   ]
  },
  {
   "cell_type": "code",
   "execution_count": 5,
   "id": "1a11d681",
   "metadata": {},
   "outputs": [
    {
     "data": {
      "text/plain": [
       "0.9453125"
      ]
     },
     "execution_count": 5,
     "metadata": {},
     "output_type": "execute_result"
    }
   ],
   "source": [
    "#Binomial Distribution\n",
    "\n",
    "#p=0.5 q=0.5 n=10  P(X≤7)= P(X=7)+P(X=6)+P(X=5)+P(X=4)+P(X=3)+P(X=2)+P(X=1)+P(X=0)\n",
    "\n",
    "stats.binom.cdf(k=7,n=10,p=0.5)"
   ]
  },
  {
   "cell_type": "markdown",
   "id": "ff0d6124",
   "metadata": {},
   "source": [
    "EXERCISE 2.\n",
    "\n",
    "The cycle time for trucks hauling concrete to a highway construction site is uniformly distributed over the interval 50 to 70 minutes. What is the probability that the cycle time exceeds 65 minutes  if it is known that the cycle time exceeds 55 minutes? (Wackerly, Ex.4.51)"
   ]
  },
  {
   "cell_type": "code",
   "execution_count": 6,
   "id": "eaabd4f4",
   "metadata": {},
   "outputs": [],
   "source": [
    "#loc=50 scale=(20) P(x>65|x>55)= P(x>65)/P(x>55)=?"
   ]
  },
  {
   "cell_type": "code",
   "execution_count": 7,
   "id": "86d7313a",
   "metadata": {},
   "outputs": [
    {
     "data": {
      "text/plain": [
       "0.25"
      ]
     },
     "execution_count": 7,
     "metadata": {},
     "output_type": "execute_result"
    }
   ],
   "source": [
    "#for P(x>65) :\n",
    "\n",
    "1-stats.uniform.cdf(65,50,20)"
   ]
  },
  {
   "cell_type": "code",
   "execution_count": 8,
   "id": "41b7a4c3",
   "metadata": {},
   "outputs": [
    {
     "data": {
      "text/plain": [
       "0.75"
      ]
     },
     "execution_count": 8,
     "metadata": {},
     "output_type": "execute_result"
    }
   ],
   "source": [
    "#for P(x>55) :\n",
    "\n",
    "1-stats.uniform.cdf(55,50,20)"
   ]
  },
  {
   "cell_type": "code",
   "execution_count": 9,
   "id": "a33c5058",
   "metadata": {},
   "outputs": [
    {
     "data": {
      "text/plain": [
       "0.3333333333333333"
      ]
     },
     "execution_count": 9,
     "metadata": {},
     "output_type": "execute_result"
    }
   ],
   "source": [
    "# for P(x>65|x>55) :\n",
    "\n",
    "(1-stats.uniform.cdf(65,50,20))/(1-stats.uniform.cdf(55,50,20))"
   ]
  },
  {
   "cell_type": "code",
   "execution_count": null,
   "id": "0ae897d2",
   "metadata": {},
   "outputs": [],
   "source": []
  },
  {
   "cell_type": "markdown",
   "id": "751a66ea",
   "metadata": {},
   "source": [
    "EXERCISE 3. \n",
    "\n",
    "The width of bolts of fabric is normally distributed with mean 950 mm (millimeters) and standard deviation 10 mm.\n"
   ]
  },
  {
   "cell_type": "markdown",
   "id": "aa339dec",
   "metadata": {},
   "source": [
    "1.\tWhat is the probability that a randomly chosen bolt has a width of between 947 and 958mm?"
   ]
  },
  {
   "cell_type": "code",
   "execution_count": 10,
   "id": "098ee928",
   "metadata": {},
   "outputs": [],
   "source": [
    "# mean=950 , st_d=10 , P(947<X<958)=?"
   ]
  },
  {
   "cell_type": "code",
   "execution_count": 11,
   "id": "ef68590b",
   "metadata": {},
   "outputs": [
    {
     "data": {
      "text/plain": [
       "0.406056023605556"
      ]
     },
     "execution_count": 11,
     "metadata": {},
     "output_type": "execute_result"
    }
   ],
   "source": [
    "stats.norm.cdf(958,950,10) - stats.norm.cdf(947,950,10)"
   ]
  },
  {
   "cell_type": "markdown",
   "id": "f11ad0fa",
   "metadata": {},
   "source": [
    "2.\tWhat is the appropriate value for C such that a randomly chosen bolt has a width less than C with probability .8531? (Wackerly, Ex.4.73)"
   ]
  },
  {
   "cell_type": "code",
   "execution_count": 12,
   "id": "67f90555",
   "metadata": {},
   "outputs": [],
   "source": [
    "#  mean=950 , st_d=10 , P(X ≤ C) = 0.8531"
   ]
  },
  {
   "cell_type": "code",
   "execution_count": null,
   "id": "e2b32c21",
   "metadata": {},
   "outputs": [],
   "source": [
    "# P((X-950)/10 ≤ (C-950)/10) = 0.8531   (For this probability the value is 1.05 from Z score.)"
   ]
  },
  {
   "cell_type": "code",
   "execution_count": null,
   "id": "3309caf3",
   "metadata": {},
   "outputs": [],
   "source": [
    "# (C-950)/10 = 1.05       C = 960.5"
   ]
  },
  {
   "cell_type": "code",
   "execution_count": null,
   "id": "432424ae",
   "metadata": {},
   "outputs": [],
   "source": []
  },
  {
   "cell_type": "code",
   "execution_count": null,
   "id": "24a6de1e",
   "metadata": {},
   "outputs": [],
   "source": []
  },
  {
   "cell_type": "code",
   "execution_count": null,
   "id": "0823ecfa",
   "metadata": {},
   "outputs": [],
   "source": []
  },
  {
   "cell_type": "code",
   "execution_count": null,
   "id": "e8b7293a",
   "metadata": {},
   "outputs": [],
   "source": []
  },
  {
   "cell_type": "code",
   "execution_count": null,
   "id": "08f9b6ca",
   "metadata": {},
   "outputs": [],
   "source": []
  },
  {
   "cell_type": "code",
   "execution_count": null,
   "id": "4a742a1e",
   "metadata": {},
   "outputs": [],
   "source": []
  }
 ],
 "metadata": {
  "kernelspec": {
   "display_name": "Python 3 (ipykernel)",
   "language": "python",
   "name": "python3"
  },
  "language_info": {
   "codemirror_mode": {
    "name": "ipython",
    "version": 3
   },
   "file_extension": ".py",
   "mimetype": "text/x-python",
   "name": "python",
   "nbconvert_exporter": "python",
   "pygments_lexer": "ipython3",
   "version": "3.9.7"
  }
 },
 "nbformat": 4,
 "nbformat_minor": 5
}
